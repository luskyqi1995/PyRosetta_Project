{
 "cells": [
  {
   "cell_type": "code",
   "execution_count": null,
   "metadata": {},
   "outputs": [],
   "source": [
    "import pyrosetta\n",
    "pyrosetta.init()\n",
    "\n",
    "from multiprocessing import Pool\n",
    "import logging\n",
    "\n",
    "import itertools\n",
    "import matplotlib.pyplot as plt\n",
    "import pandas as pd\n",
    "import numpy as np\n",
    "import seaborn\n"
   ]
  },
  {
   "cell_type": "code",
   "execution_count": null,
   "metadata": {},
   "outputs": [],
   "source": [
    "aa_dict = {\n",
    "    'A': 1,'C': 2,'D': 3,'E': 4,\n",
    "    'F': 5,'G': 6,'H': 7,'I': 8,\n",
    "    'K': 9,'L': 10,'M': 11,'N': 12,\n",
    "    'P': 13,'Q': 14,'R': 15,'S': 16,\n",
    "    'T': 17,'V': 18,'W': 19,'Y': 20}"
   ]
  },
  {
   "cell_type": "code",
   "execution_count": null,
   "metadata": {},
   "outputs": [],
   "source": [
    "# import pose from pdb\n",
    "\n",
    "pdb = '1stn-relaxed.pdb'\n",
    "relaxed_pose = pyrosetta.pose_from_pdb(pdb)\n",
    "\n",
    "# pmm = pyrosetta.rosetta.protocols.moves.PyMOLMover()\n",
    "# pmm.apply(relaxed_pose)"
   ]
  },
  {
   "cell_type": "code",
   "execution_count": null,
   "metadata": {
    "scrolled": true
   },
   "outputs": [],
   "source": [
    "# make backrub ensemble from WT\n",
    "\n",
    "n_backrub = 50\n",
    "\n",
    "backrub_protocol = pyrosetta.rosetta.protocols.backrub.BackrubProtocol()\n",
    "\n",
    "pyrosetta.rosetta.core.pose.setPoseExtraScore(relaxed_pose, \"structure_num\", 0)\n",
    "backrub_pose_list = [relaxed_pose]\n",
    "\n",
    "for i in range(1, n_backrub):\n",
    "    pose = relaxed_pose.clone()\n",
    "    pyrosetta.rosetta.core.pose.setPoseExtraScore(pose, \"structure_num\", i)\n",
    "    backrub_protocol.apply(pose)\n",
    "    backrub_pose_list.append(pose)"
   ]
  },
  {
   "cell_type": "code",
   "execution_count": null,
   "metadata": {
    "scrolled": true
   },
   "outputs": [],
   "source": [
    "# read in mutations from Kellogg dataset\n",
    "\n",
    "df = pd.read_csv('./kellogg.csv', comment = '#')\n",
    "df['chain'], df['wt_res'], df['pdb_res_index'], df['mut_res'] = df['Mutations'].str.split(' ', 3).str\n",
    "df.pdb_res_index = df.pdb_res_index.astype(int)\n",
    "df = df.drop('Mutations', axis=1)\n",
    "df.head()"
   ]
  },
  {
   "cell_type": "code",
   "execution_count": null,
   "metadata": {},
   "outputs": [],
   "source": [
    "# pick mutations based on pdb\n",
    "\n",
    "pdb_id = pdb[:4].upper()\n",
    "pdb_ddgs = df[df.PDBFileID == pdb_id]\n",
    "pdb_ddgs['res_index'] = pdb_ddgs.apply(lambda x: relaxed_pose.pdb_info().pdb2pose(x.chain, int(x.pdb_res_index)), axis=1)\n",
    "\n",
    "ddgs = pdb_ddgs[['chain', 'wt_res', 'pdb_res_index', 'mut_res', 'res_index', 'DDG']]\n",
    "\n",
    "print('PDB: {}'.format(pdb_id))\n",
    "print('Max ddG = {}'.format(ddgs.DDG.max()))\n",
    "print('Min ddG = {}'.format(ddgs.DDG.min()))\n",
    "\n",
    "ddgs.head()"
   ]
  },
  {
   "cell_type": "code",
   "execution_count": null,
   "metadata": {},
   "outputs": [],
   "source": [
    "# prepare mutation arguments from dataframe\n",
    "mutations = list(zip(pdb_ddgs.res_index, pdb_ddgs.mut_res))\n",
    "\n",
    "# create a mutation argument for WT (no mutation)\n",
    "mutations.append((relaxed_pose.total_residue(), None))\n",
    "\n",
    "# setup tuples for multiprocessing\n",
    "work = [(input_pose, res_index, new_aa)\n",
    "        for input_pose, (res_index, new_aa)\n",
    "        in itertools.product(backrub_pose_list, mutations)] "
   ]
  },
  {
   "cell_type": "code",
   "execution_count": null,
   "metadata": {},
   "outputs": [],
   "source": [
    "def mutate_minimize(input_pose, res_index, new_aa = None):\n",
    "    '''Adapted from an example by Alex Ford and Brian Weitzner at Pre-RosettaCON 2018¶'''\n",
    "    \n",
    "    #work_pose = packed_pose.to_pose(input_pose)\n",
    "    work_pose = input_pose\n",
    "    \n",
    "    #Mutate residue\n",
    "    if new_aa != None:\n",
    "        pyrosetta.toolbox.mutants.mutate_residue(work_pose, res_index, new_aa)\n",
    "        pyrosetta.rosetta.core.pose.setPoseExtraScore(work_pose, \"mutation_aa\", aa_dict[new_aa])\n",
    "        pyrosetta.rosetta.core.pose.setPoseExtraScore(work_pose, \"mutation_index\", res_index)\n",
    "    else:\n",
    "        pyrosetta.rosetta.core.pose.setPoseExtraScore(work_pose, \"mutation_aa\", -1)\n",
    "        pyrosetta.rosetta.core.pose.setPoseExtraScore(work_pose, \"mutation_index\", res_index)\n",
    "    \n",
    "    #Minimize inner shell and whole protein\n",
    "    minimizer(work_pose, res_index)\n",
    "    \n",
    "    return work_pose"
   ]
  },
  {
   "cell_type": "code",
   "execution_count": null,
   "metadata": {},
   "outputs": [],
   "source": [
    "def minimizer(work_pose, res_index):\n",
    "    \n",
    "    #work_pose = pyrosetta.pose_from_pdb('/Users/mariajaime/Desktop/2018-2019/PyRosetta/ddG/pyrosetta_project/PyRosetta_Project/1stn-relaxed.pdb')\n",
    "    #pmm = pyrosetta.PyMOLMover()\n",
    "    #pmm.pymol_name('input')\n",
    "    #pmm.apply(work_pose)\n",
    "\n",
    "    # MovemapFactory\n",
    "    mmf = pyrosetta.rosetta.core.select.movemap.MoveMapFactory()\n",
    "    mmf.all_bb(setting=True)  # Set to true if needed\n",
    "    mmf.all_bondangles(setting=True)\n",
    "    mmf.all_bondlengths(setting=True)\n",
    "    mmf.all_chi(setting=True)\n",
    "    mmf.set_cartesian(setting=True)\n",
    "    #help(pyrosetta.rosetta.core.select.movemap.MoveMapFactory)\n",
    "\n",
    "    # Create residue selectors\n",
    "\n",
    "    index_selector = pyrosetta.rosetta.core.select.residue_selector.ResidueIndexSelector(str(res_index))\n",
    "    close_residue_selector = pyrosetta.rosetta.core.select.residue_selector.NeighborhoodResidueSelector(index_selector, 10.0, True)\n",
    "    not_close_residue_selector = pyrosetta.rosetta.core.select.residue_selector.NotResidueSelector(close_residue_selector)\n",
    "\n",
    "    # Create residue level task operations\n",
    "\n",
    "    prevent_repacking_rlt = pyrosetta.rosetta.core.pack.task.operation.PreventRepackingRLT()\n",
    "\n",
    "    # Create task operations\n",
    "\n",
    "    not_close_prevent_repack_t_op = pyrosetta.rosetta.core.pack.task.operation.OperateOnResidueSubset()\n",
    "    #help(not_close_prevent_repack_t_op)\n",
    "    not_close_prevent_repack_t_op.op(prevent_repacking_rlt)\n",
    "    not_close_prevent_repack_t_op.selector(not_close_residue_selector)\n",
    "\n",
    "    tf = pyrosetta.rosetta.core.pack.task.TaskFactory()\n",
    "    tf.push_back(pyrosetta.rosetta.core.pack.task.operation.RestrictToRepacking()) #keep from designing\n",
    "    tf.push_back(pyrosetta.rosetta.core.pack.task.operation.NoRepackDisulfides())\n",
    "    tf.push_back(not_close_prevent_repack_t_op)\n",
    "\n",
    "    #Minimization\n",
    "\n",
    "    sfxn = pyrosetta.create_score_function(\"ref2015_cart.wts\")\n",
    "    min_mover = pyrosetta.rosetta.protocols.minimization_packing.MinMover('lbfgs_armijo_nonmonotone')\n",
    "    min_mover.min_type('lbfgs_armijo_nonmonotone')\n",
    "    min_mover.tolerance(0.01)\n",
    "\n",
    "    #help(min_mover)\n",
    "    min_mover.movemap_factory(mmf) \n",
    "    min_mover.score_function(sfxn)\n",
    "    #min_mover.apply(work_pose)\n",
    "\n",
    "    # Packing\n",
    "\n",
    "    packer = pyrosetta.rosetta.protocols.minimization_packing.PackRotamersMover()\n",
    "    packer.task_factory(tf)\n",
    "    packer.apply(work_pose)\n",
    "\n",
    "    #pmm.pymol_name('output')\n",
    "    #pmm.apply(work_pose)\n",
    "    \n",
    "    return work_pose\n",
    "\n"
   ]
  },
  {
   "cell_type": "code",
   "execution_count": null,
   "metadata": {},
   "outputs": [],
   "source": [
    "# run mutate and minimize, using multiprocessing\n",
    "with pyrosetta.distributed.utility.log.LoggingContext(logging.getLogger(\"rosetta\"), level=logging.WARN):\n",
    "    with Pool() as p:         \n",
    "        logging.info(\"Now generating mutations and minimizing\")\n",
    "        all_poses = p.starmap(mutate_minimize, work)"
   ]
  },
  {
   "cell_type": "code",
   "execution_count": null,
   "metadata": {},
   "outputs": [],
   "source": [
    "# make a score function\n",
    "sfxn = pyrosetta.get_fa_scorefxn()"
   ]
  },
  {
   "cell_type": "code",
   "execution_count": null,
   "metadata": {},
   "outputs": [],
   "source": [
    "df_scores = pd.DataFrame(data = np.zeros((len(all_poses),4)), columns=['structure_num', 'res_index', 'mut_res', 'score_REU'])"
   ]
  },
  {
   "cell_type": "code",
   "execution_count": null,
   "metadata": {},
   "outputs": [],
   "source": [
    "for i, pose in enumerate(all_poses):\n",
    "    structure_num = pyrosetta.rosetta.core.pose.getPoseExtraScore(pose, \"structure_num\")\n",
    "    res_index = pyrosetta.rosetta.core.pose.getPoseExtraScore(pose, \"mutation_index\")\n",
    "    mut = pyrosetta.rosetta.core.pose.getPoseExtraScore(pose, \"mutation_aa\")\n",
    "    if mut == -1:\n",
    "        mut_res = 'WT'\n",
    "    else:\n",
    "        mut_res = [key for key, value in aa_dict.items() if int(value) == mut][0]\n",
    "    \n",
    "    df_scores.loc[i,'structure_num'] = structure_num\n",
    "    df_scores.loc[i,'res_index'] = res_index\n",
    "    df_scores.loc[i,'mut_res'] = mut_res\n",
    "    df_scores.loc[i,'score_REU'] = sfxn(pose)\n"
   ]
  },
  {
   "cell_type": "code",
   "execution_count": null,
   "metadata": {},
   "outputs": [],
   "source": [
    "avg_score_df = df_scores.groupby(by = ['res_index','mut_res']).agg({'score_REU': 'mean'})"
   ]
  },
  {
   "cell_type": "code",
   "execution_count": null,
   "metadata": {},
   "outputs": [],
   "source": [
    "avg_score_df"
   ]
  },
  {
   "cell_type": "code",
   "execution_count": null,
   "metadata": {},
   "outputs": [],
   "source": [
    "final_df = pd.merge(ddgs, avg_score_df, how = 'left', on = ['res_index','mut_res'])"
   ]
  },
  {
   "cell_type": "code",
   "execution_count": null,
   "metadata": {},
   "outputs": [],
   "source": [
    "plt.scatter(final_df.DDG, final_df.score_REU)\n",
    "plt.xlabel('experimental ddG')\n",
    "plt.ylabel('REU')"
   ]
  }
 ],
 "metadata": {
  "kernelspec": {
   "display_name": "Python 3",
   "language": "python",
   "name": "python3"
  },
  "language_info": {
   "codemirror_mode": {
    "name": "ipython",
    "version": 3
   },
   "file_extension": ".py",
   "mimetype": "text/x-python",
   "name": "python",
   "nbconvert_exporter": "python",
   "pygments_lexer": "ipython3",
   "version": "3.6.8"
  }
 },
 "nbformat": 4,
 "nbformat_minor": 2
}
